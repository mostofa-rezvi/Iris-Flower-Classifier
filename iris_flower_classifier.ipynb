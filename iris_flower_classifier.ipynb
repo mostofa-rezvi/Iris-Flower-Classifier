{
 "cells": [
  {
   "cell_type": "code",
   "execution_count": 1,
   "id": "a68e2e9c",
   "metadata": {},
   "outputs": [],
   "source": [
    "#Importing Libraries\n",
    "import os\n",
    "import numpy as np \n",
    "\n",
    "import tensorflow as tf \n",
    "from tensorflow.keras import layers\n",
    "from tensorflow.keras.preprocessing.image import ImageDataGenerator\n",
    "from tensorflow.keras.utils import load_img, img_to_array\n",
    "from tensorflow.keras.models import Sequential, load_model\n",
    "from tensorflow.keras.layers import Conv2D, MaxPooling2D, Dense, Dropout, Flatten"
   ]
  },
  {
   "cell_type": "code",
   "execution_count": 2,
   "id": "f0980481",
   "metadata": {},
   "outputs": [
    {
     "name": "stdout",
     "output_type": "stream",
     "text": [
      "daisy Folder has 764 Images\n",
      "dandelion Folder has 1052 Images\n",
      "rose Folder has 784 Images\n",
      "sunflower Folder has 733 Images\n",
      "tulip Folder has 984 Images\n",
      "Total Images in Flowers Folder: 4317\n"
     ]
    }
   ],
   "source": [
    "#Fetch Images count from folders\n",
    "\n",
    "count = 0\n",
    "dirs = os.listdir('flowers/')\n",
    "\n",
    "for folder in dirs:\n",
    "    path = os.path.join('Flowers', folder)\n",
    "    if os.path.isdir(path):\n",
    "        files = os.listdir(path)\n",
    "        print(f\"{folder} Folder has {len(files)} Images\")\n",
    "        count += len(files)\n",
    "\n",
    "print(f\"Total Images in Flowers Folder: {count}\")"
   ]
  },
  {
   "cell_type": "code",
   "execution_count": 3,
   "id": "160d29b7",
   "metadata": {},
   "outputs": [
    {
     "name": "stdout",
     "output_type": "stream",
     "text": [
      "Found 4317 files belonging to 5 classes.\n",
      "Using 3454 files for training.\n",
      "Found 4317 files belonging to 5 classes.\n",
      "Using 863 files for validation.\n"
     ]
    }
   ],
   "source": [
    "#Load Images into Arrays as Dataset\n",
    "\n",
    "base_dir = 'flowers/'\n",
    "img_size = 180\n",
    "batch = 3\n",
    "\n",
    "train_dataset = tf.keras.utils.image_dataset_from_directory(\n",
    "    base_dir,\n",
    "    seed = 123,\n",
    "    validation_split = 0.2,\n",
    "    subset = 'training',\n",
    "    batch_size = batch,\n",
    "    image_size = (img_size, img_size)\n",
    ")\n",
    "\n",
    "validatin_dataset = tf.keras.utils.image_dataset_from_directory(\n",
    "    base_dir,\n",
    "    seed = 123,\n",
    "    validation_split = 0.2,\n",
    "    subset = 'validation',\n",
    "    batch_size = batch,\n",
    "    image_size = (img_size, img_size)\n",
    ")"
   ]
  },
  {
   "cell_type": "code",
   "execution_count": null,
   "id": "a7d9ddcf",
   "metadata": {},
   "outputs": [],
   "source": []
  }
 ],
 "metadata": {
  "kernelspec": {
   "display_name": "Python 3",
   "language": "python",
   "name": "python3"
  },
  "language_info": {
   "codemirror_mode": {
    "name": "ipython",
    "version": 3
   },
   "file_extension": ".py",
   "mimetype": "text/x-python",
   "name": "python",
   "nbconvert_exporter": "python",
   "pygments_lexer": "ipython3",
   "version": "3.13.7"
  }
 },
 "nbformat": 4,
 "nbformat_minor": 5
}
